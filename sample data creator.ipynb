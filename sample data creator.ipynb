{
 "cells": [
  {
   "cell_type": "code",
   "execution_count": 1,
   "metadata": {},
   "outputs": [
    {
     "name": "stdout",
     "output_type": "stream",
     "text": [
      "Data has been written to data.csv\n"
     ]
    }
   ],
   "source": [
    "import csv\n",
    "\n",
    "# Define the data\n",
    "data = [\n",
    "    [\"name\", \"age\", \"income\", \"dependents\", \"employment_status\", \"housing_status\", \"health_issues\", \"notes\"],\n",
    "    [\"Fatima Ali\", 38, 450, 3, \"Unemployed\", \"Rented\", \"None\", \"Lost job during COVID; taking care of 3 children\"],\n",
    "    [\"Mohammed Khan\", 42, 600, 2, \"Self-Employed\", \"Owns\", \"None\", \"Income is unstable; wife recently passed away\"],\n",
    "    [\"Aisha Noor\", 29, 320, 1, \"Unemployed\", \"Rented\", \"Diabetes\", \"Single mother; struggling to pay rent\"],\n",
    "    [\"Yusuf Haddad\", 54, 480, 4, \"Part-time\", \"Rented\", \"None\", \"Caring for elderly mother and disabled son\"],\n",
    "    [\"Sara Ibrahim\", 35, 700, 2, \"Employed\", \"Rented\", \"None\", \"Working minimum wage; not enough for family needs\"],\n",
    "    [\"Omar Nabil\", 27, 290, 0, \"Unemployed\", \"Lives with parents\", \"None\", \"Looking for work; no dependents\"],\n",
    "    [\"Laila Fathi\", 46, 510, 3, \"Self-Employed\", \"Owns\", \"Hypertension\", \"Owns a small shop; low income due to inflation\"],\n",
    "    [\"Khaled Zaki\", 60, 250, 2, \"Pensioner\", \"Owns\", \"Heart Disease\", \"Retired; medical bills very high\"],\n",
    "    [\"Nour El-Din\", 33, 520, 1, \"Employed\", \"Shared\", \"None\", \"Lives in shared housing; supports younger sibling\"],\n",
    "    [\"Huda Salem\", 40, 390, 2, \"Unemployed\", \"Rented\", \"None\", \"Domestic violence survivor; in shelter\"]\n",
    "]\n",
    "\n",
    "# Specify the file path\n",
    "file_path = 'data.csv'\n",
    "\n",
    "# Write data to CSV\n",
    "with open(file_path, mode='w', newline='') as file:\n",
    "    writer = csv.writer(file)\n",
    "    writer.writerows(data)\n",
    "\n",
    "print(f\"Data has been written to {file_path}\")\n"
   ]
  },
  {
   "cell_type": "code",
   "execution_count": 2,
   "metadata": {},
   "outputs": [
    {
     "name": "stdout",
     "output_type": "stream",
     "text": [
      "Collecting reportlabNote: you may need to restart the kernel to use updated packages.\n",
      "\n",
      "  Downloading reportlab-4.4.0-py3-none-any.whl (2.0 MB)\n",
      "Requirement already satisfied: chardet in c:\\users\\sumit\\anaconda3\\lib\\site-packages (from reportlab) (3.0.4)\n",
      "Requirement already satisfied: pillow>=9.0.0 in c:\\users\\sumit\\anaconda3\\lib\\site-packages (from reportlab) (10.0.0)\n",
      "Installing collected packages: reportlab\n",
      "Successfully installed reportlab-4.4.0\n"
     ]
    }
   ],
   "source": [
    "pip install reportlab\n"
   ]
  },
  {
   "cell_type": "code",
   "execution_count": 3,
   "metadata": {},
   "outputs": [
    {
     "name": "stdout",
     "output_type": "stream",
     "text": [
      "PDF created successfully: national_id_card.pdf\n"
     ]
    }
   ],
   "source": [
    "from reportlab.lib.pagesizes import A6\n",
    "from reportlab.pdfgen import canvas\n",
    "from reportlab.lib.units import mm\n",
    "from reportlab.lib import colors\n",
    "\n",
    "# File path\n",
    "file_path = \"national_id_card.pdf\"\n",
    "\n",
    "# Create the PDF\n",
    "c = canvas.Canvas(file_path, pagesize=A6)\n",
    "width, height = A6\n",
    "\n",
    "# Draw border\n",
    "margin = 5 * mm\n",
    "c.setStrokeColor(colors.black)\n",
    "c.setLineWidth(2)\n",
    "c.rect(margin, margin, width - 2 * margin, height - 2 * margin)\n",
    "\n",
    "# Header\n",
    "c.setFont(\"Helvetica-Bold\", 12)\n",
    "c.drawCentredString(width / 2, height - 20, \"GOVT OF EMIRATES\")\n",
    "\n",
    "# Title\n",
    "c.setFont(\"Helvetica-Bold\", 11)\n",
    "c.drawCentredString(width / 2, height - 40, \"NATIONAL ID CARD\")\n",
    "\n",
    "# Personal info\n",
    "c.setFont(\"Helvetica\", 10)\n",
    "y = height - 60\n",
    "line_height = 14\n",
    "\n",
    "info = [\n",
    "    \"Name: Fatima Ali\",\n",
    "    \"ID No: 784-1983-1234567-1\",\n",
    "    \"DOB: 10-Apr-1983\",\n",
    "    \"Nationality: UAE\",\n",
    "    \"Address: Sharjah, UAE\",\n",
    "    \"\",\n",
    "    \"Issued: 20-May-2023\",\n",
    "    \"Expires: 19-May-2028\"\n",
    "]\n",
    "\n",
    "for line in info:\n",
    "    c.drawString(margin + 10, y, line)\n",
    "    y -= line_height\n",
    "\n",
    "# Save the PDF\n",
    "c.save()\n",
    "\n",
    "print(f\"PDF created successfully: {file_path}\")\n"
   ]
  },
  {
   "cell_type": "code",
   "execution_count": 4,
   "metadata": {},
   "outputs": [
    {
     "name": "stdout",
     "output_type": "stream",
     "text": [
      "Requirement already satisfied: pyttsx3 in c:\\users\\sumit\\anaconda3\\lib\\site-packages (2.90)\n",
      "Requirement already satisfied: comtypes; platform_system == \"Windows\" in c:\\users\\sumit\\anaconda3\\lib\\site-packages (from pyttsx3) (1.1.7)\n",
      "Requirement already satisfied: pypiwin32; platform_system == \"Windows\" in c:\\users\\sumit\\anaconda3\\lib\\site-packages (from pyttsx3) (223)\n",
      "Requirement already satisfied: pywin32; platform_system == \"Windows\" in c:\\users\\sumit\\anaconda3\\lib\\site-packages (from pyttsx3) (227)\n",
      "Note: you may need to restart the kernel to use updated packages.\n"
     ]
    }
   ],
   "source": [
    "pip install pyttsx3\n"
   ]
  },
  {
   "cell_type": "code",
   "execution_count": 5,
   "metadata": {},
   "outputs": [
    {
     "name": "stdout",
     "output_type": "stream",
     "text": [
      "Audio saved as national_id_audio.mp3\n"
     ]
    }
   ],
   "source": [
    "import pyttsx3\n",
    "\n",
    "info = [\n",
    "    \"Name: Fatima Ali\",\n",
    "    \"ID Number: 784 dash 1983 dash 1234567 dash 1\",\n",
    "    \"Date of Birth: 10 April 1983\",\n",
    "    \"Nationality: U A E\",\n",
    "    \"Address: Sharjah, U A E\",\n",
    "    \"Issued: 20 May 2023\",\n",
    "    \"Expires: 19 May 2028\"\n",
    "]\n",
    "\n",
    "# Combine into single string\n",
    "text = \". \".join(info)\n",
    "\n",
    "# Initialize TTS engine\n",
    "engine = pyttsx3.init()\n",
    "engine.setProperty('rate', 150)  # Adjust speed\n",
    "engine.save_to_file(text, 'national_id_audio.mp3')\n",
    "engine.runAndWait()\n",
    "\n",
    "print(\"Audio saved as national_id_audio.mp3\")\n"
   ]
  },
  {
   "cell_type": "code",
   "execution_count": 6,
   "metadata": {},
   "outputs": [
    {
     "name": "stdout",
     "output_type": "stream",
     "text": [
      "Collecting openai==0.28\n",
      "  Downloading openai-0.28.0-py3-none-any.whl (76 kB)\n",
      "Requirement already satisfied: tqdm in c:\\users\\sumit\\anaconda3\\lib\\site-packages (from openai==0.28) (4.64.0)\n",
      "Requirement already satisfied: requests>=2.20 in c:\\users\\sumit\\anaconda3\\lib\\site-packages (from openai==0.28) (2.26.0)\n",
      "Note: you may need to restart the kernel to use updated packages.\n",
      "Requirement already satisfied: aiohttp in c:\\users\\sumit\\anaconda3\\lib\\site-packages (from openai==0.28) (3.8.1)\n",
      "Requirement already satisfied: colorama; platform_system == \"Windows\" in c:\\users\\sumit\\anaconda3\\lib\\site-packages (from tqdm->openai==0.28) (0.4.4)\n",
      "Requirement already satisfied: idna<4,>=2.5; python_version >= \"3\" in c:\\users\\sumit\\anaconda3\\lib\\site-packages (from requests>=2.20->openai==0.28) (2.10)\n",
      "Requirement already satisfied: certifi>=2017.4.17 in c:\\users\\sumit\\appdata\\roaming\\python\\python38\\site-packages (from requests>=2.20->openai==0.28) (2021.10.8)\n",
      "Requirement already satisfied: charset-normalizer~=2.0.0; python_version >= \"3\" in c:\\users\\sumit\\appdata\\roaming\\python\\python38\\site-packages (from requests>=2.20->openai==0.28) (2.0.11)\n",
      "Requirement already satisfied: urllib3<1.27,>=1.21.1 in c:\\users\\sumit\\appdata\\roaming\\python\\python38\\site-packages (from requests>=2.20->openai==0.28) (1.26.8)\n",
      "Requirement already satisfied: aiosignal>=1.1.2 in c:\\users\\sumit\\anaconda3\\lib\\site-packages (from aiohttp->openai==0.28) (1.2.0)\n",
      "Requirement already satisfied: multidict<7.0,>=4.5 in c:\\users\\sumit\\anaconda3\\lib\\site-packages (from aiohttp->openai==0.28) (6.0.2)\n",
      "Requirement already satisfied: yarl<2.0,>=1.0 in c:\\users\\sumit\\anaconda3\\lib\\site-packages (from aiohttp->openai==0.28) (1.7.2)\n",
      "Requirement already satisfied: frozenlist>=1.1.1 in c:\\users\\sumit\\anaconda3\\lib\\site-packages (from aiohttp->openai==0.28) (1.3.0)\n",
      "Requirement already satisfied: async-timeout<5.0,>=4.0.0a3 in c:\\users\\sumit\\anaconda3\\lib\\site-packages (from aiohttp->openai==0.28) (4.0.2)\n",
      "Requirement already satisfied: attrs>=17.3.0 in c:\\users\\sumit\\anaconda3\\lib\\site-packages (from aiohttp->openai==0.28) (20.3.0)\n",
      "Installing collected packages: openai\n",
      "  Attempting uninstall: openai\n",
      "    Found existing installation: openai 0.27.1\n",
      "    Uninstalling openai-0.27.1:\n",
      "      Successfully uninstalled openai-0.27.1\n",
      "Successfully installed openai-0.28.0\n"
     ]
    }
   ],
   "source": [
    "pip install openai==0.28"
   ]
  },
  {
   "cell_type": "code",
   "execution_count": null,
   "metadata": {},
   "outputs": [],
   "source": []
  }
 ],
 "metadata": {
  "kernelspec": {
   "display_name": "Python 3",
   "language": "python",
   "name": "python3"
  },
  "language_info": {
   "codemirror_mode": {
    "name": "ipython",
    "version": 3
   },
   "file_extension": ".py",
   "mimetype": "text/x-python",
   "name": "python",
   "nbconvert_exporter": "python",
   "pygments_lexer": "ipython3",
   "version": "3.8.5"
  }
 },
 "nbformat": 4,
 "nbformat_minor": 4
}
